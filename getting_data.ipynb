{
 "cells": [
  {
   "cell_type": "code",
   "execution_count": 35,
   "metadata": {},
   "outputs": [],
   "source": [
    "import pandas as pd\n",
    "import json\n",
    "import requests\n",
    "import datetime"
   ]
  },
  {
   "cell_type": "code",
   "execution_count": 36,
   "metadata": {},
   "outputs": [],
   "source": [
    "#URL found from viewing web inspector in web browser to find the current list of issues\n",
    "url = \"https://seeclickfix.com/api/v2/issues?min_lat=39.03211937423035&min_lng=-95.71889877319336&max_lat=39.052118348329074&max_lng=-95.6312656402588&status=open%2Cacknowledged%2Cclosed&fields%5Bissue%5D=id%2Csummary%2Cdescription%2Cstatus%2Clat%2Clng%2Caddress%2Cmedia%2Ccreated_at%2Cacknowledged_at%2Cclosed_at&page=1\""
   ]
  },
  {
   "cell_type": "code",
   "execution_count": 37,
   "metadata": {},
   "outputs": [],
   "source": [
    "#grab an initial response to grab the total number of pages\n",
    "response = requests.get(url).json()\n",
    "total_pages = response['metadata']['pagination']['pages']"
   ]
  },
  {
   "cell_type": "code",
   "execution_count": 38,
   "metadata": {},
   "outputs": [],
   "source": [
    "#define a function to get urls from the initial URL \n",
    "def get_issues(url):\n",
    "    #create a temp list for all issues to return\n",
    "    all_issues = []\n",
    "    for i in range(1,total_pages +1):\n",
    "        print(f\"getting page {i} of {total_pages}\")\n",
    "        response = requests.get(url).json()\n",
    "        next_page_url = response['metadata']['pagination']['next_page_url']\n",
    "        page_issues = response['issues']\n",
    "        #add current list of issues to the existing list of issues\n",
    "        all_issues.extend(page_issues)\n",
    "        #set URL to next page to get the next set of issues\n",
    "        url = next_page_url\n",
    "    #return the list of all issues\n",
    "    return all_issues"
   ]
  },
  {
   "cell_type": "code",
   "execution_count": 22,
   "metadata": {},
   "outputs": [
    {
     "name": "stdout",
     "output_type": "stream",
     "text": [
      "getting page 1 of 10\n",
      "getting page 2 of 10\n",
      "getting page 3 of 10\n",
      "getting page 4 of 10\n",
      "getting page 5 of 10\n",
      "getting page 6 of 10\n",
      "getting page 7 of 10\n",
      "getting page 8 of 10\n",
      "getting page 9 of 10\n",
      "getting page 10 of 10\n"
     ]
    }
   ],
   "source": [
    "# call function to get all issues\n",
    "all_issues = get_issues(url)"
   ]
  },
  {
   "cell_type": "code",
   "execution_count": 23,
   "metadata": {},
   "outputs": [],
   "source": [
    "#create dataframe from issue list\n",
    "issues_df = pd.DataFrame(all_issues)\n",
    "#set index to the issues id\n",
    "issues_df = issues_df.set_index('id')"
   ]
  },
  {
   "cell_type": "code",
   "execution_count": 24,
   "metadata": {},
   "outputs": [],
   "source": [
    "def clean_summary(df):\n",
    "    #convert dates\n",
    "    df['created_at'] = pd.to_datetime(\n",
    "        df['created_at'], format=\"%Y/%m/%d\", utc=True)\n",
    "    df['acknowledged_at'] = pd.to_datetime(\n",
    "        df['acknowledged_at'], format=\"%Y/%m/%d\", utc=True)\n",
    "    df['closed_at'] = pd.to_datetime(\n",
    "        df['closed_at'], format=\"%Y/%m/%d\", utc=True)\n",
    "    # calculate time to acknowledge\n",
    "    df['time to acknowledge'] = df['acknowledged_at'] - df['created_at']\n",
    "    df['time to close'] = df['closed_at'] - df['created_at']\n",
    "    \n",
    "    #return daframe and replace known errant values\n",
    "    return df.replace({\"Curb and Gutter\": \"Curb and Gutter Repair\",\n",
    "                       \"Junk Yard?\": \"Property Maintenance & Code Violations\",\n",
    "                       \"skatepark light\": \"safety lighting\",\n",
    "                       \"Dead animal on sidewalk \": \"Police Animal Control\",\n",
    "                       \"Loud pedestrian crossing \": \"Street Sign Repair\",\n",
    "                       \"Pothole\": \"Street Repair\"})\n"
   ]
  },
  {
   "cell_type": "code",
   "execution_count": 25,
   "metadata": {},
   "outputs": [],
   "source": [
    "# call function to clean the summary column\n",
    "issues_df = clean_summary(issues_df)"
   ]
  },
  {
   "cell_type": "code",
   "execution_count": 26,
   "metadata": {},
   "outputs": [],
   "source": [
    "status_list = issues_df['status'].value_counts()"
   ]
  },
  {
   "cell_type": "code",
   "execution_count": 27,
   "metadata": {},
   "outputs": [
    {
     "data": {
      "text/plain": [
       "Property Maintenance & Code Violations    59\n",
       "Curb and Gutter Repair                    43\n",
       "Street Repair                             18\n",
       "Alley                                     14\n",
       "Sidewalk and Ramp                         11\n",
       "Police General Issue                       8\n",
       "Trees and Tree Limbs                       8\n",
       "General Feedback or Questions              5\n",
       "Other                                      4\n",
       "Snow or Ice Hazard                         3\n",
       "Street Sign Repair                         3\n",
       "safety lighting                            2\n",
       "Police Animal Control                      2\n",
       "Utility Work Damage                        2\n",
       "Graffiti                                   1\n",
       "Hydrant Leaking                            1\n",
       "Loud pedestrian crossing                   1\n",
       "Hole in Buffalo                            1\n",
       "Downtown Parking General Question          1\n",
       "dangerous parking                          1\n",
       "Name: summary, dtype: int64"
      ]
     },
     "execution_count": 27,
     "metadata": {},
     "output_type": "execute_result"
    }
   ],
   "source": [
    "summary_list = issues_df['summary'].value_counts()\n",
    "summary_list"
   ]
  },
  {
   "cell_type": "code",
   "execution_count": 28,
   "metadata": {},
   "outputs": [],
   "source": [
    "summary_df = pd.DataFrame(issues_df.groupby('summary')['status'].count())"
   ]
  },
  {
   "cell_type": "code",
   "execution_count": 29,
   "metadata": {},
   "outputs": [
    {
     "data": {
      "text/plain": [
       "<matplotlib.axes._subplots.AxesSubplot at 0x7fede3544978>"
      ]
     },
     "execution_count": 29,
     "metadata": {},
     "output_type": "execute_result"
    },
    {
     "data": {
      "image/png": "[encoded data removed]",
      "text/plain": [
       "<Figure size 432x288 with 1 Axes>"
      ]
     },
     "metadata": {
      "needs_background": "light"
     },
     "output_type": "display_data"
    }
   ],
   "source": [
    "summary_df.plot(kind=\"bar\")"
   ]
  },
  {
   "cell_type": "code",
   "execution_count": 30,
   "metadata": {},
   "outputs": [
    {
     "data": {
      "text/plain": [
       "<matplotlib.axes._subplots.AxesSubplot at 0x7fede4470438>"
      ]
     },
     "execution_count": 30,
     "metadata": {},
     "output_type": "execute_result"
    },
    {
     "data": {
      "image/png": "[encoded data removed]",
      "text/plain": [
       "<Figure size 432x288 with 1 Axes>"
      ]
     },
     "metadata": {
      "needs_background": "light"
     },
     "output_type": "display_data"
    }
   ],
   "source": [
    "status = pd.DataFrame(issues_df.groupby('status')['status'].count())\n",
    "status.plot(kind=\"bar\")"
   ]
  },
  {
   "cell_type": "code",
   "execution_count": 31,
   "metadata": {},
   "outputs": [
    {
     "data": {
      "text/plain": [
       "id\n",
       "11872545   0 days 00:00:09\n",
       "11872529   0 days 00:00:14\n",
       "11872519   0 days 00:00:09\n",
       "11872505   0 days 00:00:08\n",
       "11872484   0 days 00:00:08\n",
       "11872475   0 days 00:00:05\n",
       "11867169   0 days 00:00:26\n",
       "11864430   0 days 00:00:12\n",
       "11854694   0 days 00:00:14\n",
       "11852869   0 days 00:00:05\n",
       "11852838   0 days 00:00:06\n",
       "11852731   0 days 00:00:05\n",
       "11852433   0 days 00:00:04\n",
       "11851623   0 days 00:00:37\n",
       "11849500   0 days 00:00:03\n",
       "11847298   0 days 00:00:04\n",
       "11846696   0 days 00:00:05\n",
       "11841328   0 days 00:00:07\n",
       "11837900   0 days 00:00:05\n",
       "11834635   0 days 00:00:04\n",
       "11833753   0 days 00:00:17\n",
       "11831765   0 days 00:00:13\n",
       "11831592   0 days 00:00:13\n",
       "11831372   0 days 00:00:04\n",
       "11831336   0 days 00:00:21\n",
       "11827220   0 days 00:00:04\n",
       "11826398   0 days 00:00:09\n",
       "11826391   0 days 00:00:11\n",
       "11826385   0 days 00:00:22\n",
       "11822963   0 days 00:00:04\n",
       "                 ...      \n",
       "7133880    0 days 00:00:16\n",
       "7133763    0 days 00:00:04\n",
       "7030414    0 days 00:00:32\n",
       "6975346    0 days 00:00:39\n",
       "6619067    0 days 00:00:23\n",
       "6585730    0 days 00:00:05\n",
       "6558091    0 days 00:00:04\n",
       "6116247    0 days 00:00:19\n",
       "6044425    0 days 00:00:10\n",
       "5925505    0 days 00:00:25\n",
       "5746361    0 days 00:00:24\n",
       "5644236    0 days 00:00:24\n",
       "5549476    0 days 00:00:23\n",
       "5537743    0 days 00:00:36\n",
       "5380920    0 days 00:00:22\n",
       "5126313    0 days 00:00:25\n",
       "4542181    0 days 00:00:05\n",
       "4541947    0 days 00:00:39\n",
       "4536562    0 days 00:00:32\n",
       "4498970    0 days 00:00:33\n",
       "4442102    0 days 00:00:40\n",
       "3741756    0 days 00:00:33\n",
       "3679499    0 days 00:00:24\n",
       "3462380    0 days 00:07:39\n",
       "3448622    0 days 00:00:34\n",
       "3400442    6 days 04:11:23\n",
       "3374188    0 days 00:00:27\n",
       "3321776    0 days 00:10:23\n",
       "3225285    0 days 00:00:38\n",
       "3134538    0 days 00:00:16\n",
       "Name: time to acknowledge, Length: 188, dtype: timedelta64[ns]"
      ]
     },
     "execution_count": 31,
     "metadata": {},
     "output_type": "execute_result"
    }
   ],
   "source": [
    "issues_df['time to acknowledge']"
   ]
  },
  {
   "cell_type": "code",
   "execution_count": 32,
   "metadata": {},
   "outputs": [
    {
     "data": {
      "text/plain": [
       "time to acknowledge\n",
       "0 days 00:00:02       4\n",
       "0 days 00:00:03       4\n",
       "0 days 00:00:04      19\n",
       "0 days 00:00:05      20\n",
       "0 days 00:00:06       6\n",
       "0 days 00:00:07      12\n",
       "0 days 00:00:08       6\n",
       "0 days 00:00:09       3\n",
       "0 days 00:00:10       3\n",
       "0 days 00:00:11       5\n",
       "0 days 00:00:12       3\n",
       "0 days 00:00:13       5\n",
       "0 days 00:00:14       9\n",
       "0 days 00:00:15       3\n",
       "0 days 00:00:16       4\n",
       "0 days 00:00:17       5\n",
       "0 days 00:00:18       2\n",
       "0 days 00:00:19       6\n",
       "0 days 00:00:20       3\n",
       "0 days 00:00:21       2\n",
       "0 days 00:00:22       4\n",
       "0 days 00:00:23       4\n",
       "0 days 00:00:24       5\n",
       "0 days 00:00:25       4\n",
       "0 days 00:00:26       3\n",
       "0 days 00:00:27       2\n",
       "0 days 00:00:28       1\n",
       "0 days 00:00:29       2\n",
       "0 days 00:00:32       3\n",
       "0 days 00:00:33       3\n",
       "0 days 00:00:34       1\n",
       "0 days 00:00:36       3\n",
       "0 days 00:00:37       2\n",
       "0 days 00:00:38       1\n",
       "0 days 00:00:39       2\n",
       "0 days 00:00:40       2\n",
       "0 days 00:00:42       2\n",
       "0 days 00:00:45       1\n",
       "0 days 00:00:48       1\n",
       "0 days 00:01:20       1\n",
       "0 days 00:01:26       1\n",
       "0 days 00:01:32       1\n",
       "0 days 00:01:34       1\n",
       "0 days 00:01:47       1\n",
       "0 days 00:02:04       1\n",
       "0 days 00:02:08       1\n",
       "0 days 00:07:39       1\n",
       "0 days 00:10:23       1\n",
       "0 days 01:07:09       1\n",
       "2 days 23:14:02       1\n",
       "6 days 04:11:23       1\n",
       "7 days 20:45:28       1\n",
       "9 days 04:40:31       1\n",
       "15 days 08:19:14      1\n",
       "26 days 19:55:44      1\n",
       "184 days 12:25:35     1\n",
       "Name: time to acknowledge, dtype: int64"
      ]
     },
     "execution_count": 32,
     "metadata": {},
     "output_type": "execute_result"
    }
   ],
   "source": [
    "issues_df.groupby('time to acknowledge')['time to acknowledge'].count()"
   ]
  },
  {
   "cell_type": "code",
   "execution_count": 33,
   "metadata": {},
   "outputs": [],
   "source": [
    "#pd.to_datetime(issues_df['time to acknowledge'] )"
   ]
  },
  {
   "cell_type": "code",
   "execution_count": 34,
   "metadata": {},
   "outputs": [],
   "source": [
    "#save to CSV\n",
    "issues_df.to_csv(\"all_issues.csv\")"
   ]
  }
 ],
 "metadata": {
  "kernelspec": {
   "display_name": "Python 3",
   "language": "python",
   "name": "python3"
  },
  "language_info": {
   "codemirror_mode": {
    "name": "ipython",
    "version": 3
   },
   "file_extension": ".py",
   "mimetype": "text/x-python",
   "name": "python",
   "nbconvert_exporter": "python",
   "pygments_lexer": "ipython3",
   "version": "3.6.7"
  }
 },
 "nbformat": 4,
 "nbformat_minor": 4
}
