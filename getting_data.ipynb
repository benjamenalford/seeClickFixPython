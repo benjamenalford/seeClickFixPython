{
 "cells": [
  {
   "cell_type": "code",
   "execution_count": 1,
   "metadata": {},
   "outputs": [],
   "source": [
    "import pandas as pd\n",
    "import json\n",
    "import requests\n",
    "import datetime\n",
    "from config import postgres_url_user_pass\n",
    "from config import postgres_server"
   ]
  },
  {
   "cell_type": "code",
   "execution_count": 2,
   "metadata": {},
   "outputs": [],
   "source": [
    "#URL found from viewing web inspector in web browser to find the current list of issues\n",
    "url = \"https://seeclickfix.com/api/v2/issues?min_lat=39.03211937423035&min_lng=-95.71889877319336&max_lat=39.052118348329074&max_lng=-95.6312656402588&status=open%2Cacknowledged%2Cclosed&fields%5Bissue%5D=id%2Csummary%2Cdescription%2Cstatus%2Clat%2Clng%2Caddress%2Cmedia%2Ccreated_at%2Cacknowledged_at%2Cclosed_at&page=1\""
   ]
  },
  {
   "cell_type": "code",
   "execution_count": 3,
   "metadata": {},
   "outputs": [],
   "source": [
    "#grab an initial response to grab the total number of pages\n",
    "response = requests.get(url).json()\n",
    "total_pages = response['metadata']['pagination']['pages']"
   ]
  },
  {
   "cell_type": "code",
   "execution_count": 4,
   "metadata": {},
   "outputs": [],
   "source": [
    "#define a function to get urls from the initial URL \n",
    "def get_issues(url):\n",
    "    #create a temp list for all issues to return\n",
    "    all_issues = []\n",
    "    for i in range(1,total_pages +1):\n",
    "        print(f\"getting page {i} of {total_pages}\")\n",
    "        response = requests.get(url).json()\n",
    "        next_page_url = response['metadata']['pagination']['next_page_url']\n",
    "        page_issues = response['issues']\n",
    "        #add current list of issues to the existing list of issues\n",
    "        all_issues.extend(page_issues)\n",
    "        #set URL to next page to get the next set of issues\n",
    "        url = next_page_url\n",
    "    #return the list of all issues\n",
    "    return all_issues"
   ]
  },
  {
   "cell_type": "code",
   "execution_count": 5,
   "metadata": {},
   "outputs": [
    {
     "name": "stdout",
     "output_type": "stream",
     "text": [
      "getting page 1 of 11\n",
      "getting page 2 of 11\n",
      "getting page 3 of 11\n",
      "getting page 4 of 11\n",
      "getting page 5 of 11\n",
      "getting page 6 of 11\n",
      "getting page 7 of 11\n",
      "getting page 8 of 11\n",
      "getting page 9 of 11\n",
      "getting page 10 of 11\n",
      "getting page 11 of 11\n"
     ]
    }
   ],
   "source": [
    "# call function to get all issues\n",
    "all_issues = get_issues(url)"
   ]
  },
  {
   "cell_type": "code",
   "execution_count": 6,
   "metadata": {},
   "outputs": [],
   "source": [
    "#create dataframe from issue list\n",
    "issues_df = pd.DataFrame(all_issues)\n",
    "#set index to the issues id\n",
    "issues_df = issues_df.set_index('id')"
   ]
  },
  {
   "cell_type": "code",
   "execution_count": 7,
   "metadata": {},
   "outputs": [],
   "source": [
    "def clean_summary(df):\n",
    "    #convert dates\n",
    "    df['created_at'] = pd.to_datetime(\n",
    "        df['created_at'], format=\"%Y/%m/%d\", utc=True)\n",
    "    df['acknowledged_at'] = pd.to_datetime(\n",
    "        df['acknowledged_at'], format=\"%Y/%m/%d\", utc=True)\n",
    "    df['closed_at'] = pd.to_datetime(\n",
    "        df['closed_at'], format=\"%Y/%m/%d\", utc=True)\n",
    "    # calculate time to acknowledge\n",
    "    df['time to acknowledge'] = df['acknowledged_at'] - df['created_at']\n",
    "    df['time to close'] = df['closed_at'] - df['created_at']\n",
    "    \n",
    "    #return daframe and replace known errant values\n",
    "    return df.replace({\"Curb and Gutter\": \"Curb and Gutter Repair\",\n",
    "                       \"Junk Yard?\": \"Property Maintenance & Code Violations\",\n",
    "                       \"skatepark light\": \"safety lighting\",\n",
    "                       \"Dead animal on sidewalk \": \"Police Animal Control\",\n",
    "                       \"Loud pedestrian crossing \": \"Street Sign Repair\",\n",
    "                       \"Pothole\": \"Street Repair\"})\n"
   ]
  },
  {
   "cell_type": "code",
   "execution_count": 8,
   "metadata": {},
   "outputs": [],
   "source": [
    "# call function to clean the summary column\n",
    "issues_df = clean_summary(issues_df)"
   ]
  },
  {
   "cell_type": "code",
   "execution_count": 9,
   "metadata": {},
   "outputs": [],
   "source": [
    "status_list = issues_df['status'].value_counts()"
   ]
  },
  {
   "cell_type": "code",
   "execution_count": 10,
   "metadata": {},
   "outputs": [
    {
     "data": {
      "text/plain": [
       "Property Maintenance & Code Violations    64\n",
       "Curb and Gutter Repair                    44\n",
       "Street Repair                             21\n",
       "Sidewalk and Ramp                         15\n",
       "Alley                                     15\n",
       "Police General Issue                      10\n",
       "Trees and Tree Limbs                       8\n",
       "General Feedback or Questions              5\n",
       "Other                                      4\n",
       "Traffic Signal Repair                      4\n",
       "safety lighting                            2\n",
       "Hole in Buffalo                            1\n",
       "Question?                                  1\n",
       "Downtown Parking General Question          1\n",
       "Snow or Ice Hazard                         1\n",
       "Utility Work Damage                        1\n",
       "Street Light Out                           1\n",
       "Loose trash in ally at this residence.     1\n",
       "dangerous parking                          1\n",
       "Street Sign Repair                         1\n",
       "Loud pedestrian crossing                   1\n",
       "Name: summary, dtype: int64"
      ]
     },
     "execution_count": 10,
     "metadata": {},
     "output_type": "execute_result"
    }
   ],
   "source": [
    "summary_list = issues_df['summary'].value_counts()\n",
    "summary_list"
   ]
  },
  {
   "cell_type": "code",
   "execution_count": 11,
   "metadata": {},
   "outputs": [],
   "source": [
    "summary_df = pd.DataFrame(issues_df.groupby('summary')['status'].count())"
   ]
  },
  {
   "cell_type": "code",
   "execution_count": 12,
   "metadata": {},
   "outputs": [
    {
     "data": {
      "text/plain": [
       "<AxesSubplot:xlabel='summary'>"
      ]
     },
     "execution_count": 12,
     "metadata": {},
     "output_type": "execute_result"
    },
    {
     "data": {
      "image/png": "[encoded data removed]",
      "text/plain": [
       "<Figure size 432x288 with 1 Axes>"
      ]
     },
     "metadata": {
      "needs_background": "light"
     },
     "output_type": "display_data"
    }
   ],
   "source": [
    "summary_df.plot(kind=\"bar\")"
   ]
  },
  {
   "cell_type": "code",
   "execution_count": 13,
   "metadata": {},
   "outputs": [
    {
     "data": {
      "text/plain": [
       "<AxesSubplot:xlabel='status'>"
      ]
     },
     "execution_count": 13,
     "metadata": {},
     "output_type": "execute_result"
    },
    {
     "data": {
      "image/png": "[encoded data removed]",
      "text/plain": [
       "<Figure size 432x288 with 1 Axes>"
      ]
     },
     "metadata": {
      "needs_background": "light"
     },
     "output_type": "display_data"
    }
   ],
   "source": [
    "status = pd.DataFrame(issues_df.groupby('status')['status'].count())\n",
    "status.plot(kind=\"bar\")"
   ]
  },
  {
   "cell_type": "code",
   "execution_count": 14,
   "metadata": {},
   "outputs": [
    {
     "data": {
      "text/plain": [
       "id\n",
       "11897808   0 days 00:00:25\n",
       "11897781   0 days 00:00:17\n",
       "11896851   0 days 00:00:09\n",
       "11896384   0 days 00:00:06\n",
       "11894638   0 days 00:00:09\n",
       "                 ...      \n",
       "3400442    6 days 04:11:23\n",
       "3374188    0 days 00:00:27\n",
       "3321776    0 days 00:10:23\n",
       "3225285    0 days 00:00:38\n",
       "3134538    0 days 00:00:16\n",
       "Name: time to acknowledge, Length: 202, dtype: timedelta64[ns]"
      ]
     },
     "execution_count": 14,
     "metadata": {},
     "output_type": "execute_result"
    }
   ],
   "source": [
    "issues_df['time to acknowledge']"
   ]
  },
  {
   "cell_type": "code",
   "execution_count": 15,
   "metadata": {},
   "outputs": [
    {
     "data": {
      "text/plain": [
       "time to acknowledge\n",
       "0 days 00:00:02       5\n",
       "0 days 00:00:03      11\n",
       "0 days 00:00:04      18\n",
       "0 days 00:00:05      21\n",
       "0 days 00:00:06       8\n",
       "0 days 00:00:07      12\n",
       "0 days 00:00:08       9\n",
       "0 days 00:00:09       5\n",
       "0 days 00:00:10       2\n",
       "0 days 00:00:11       7\n",
       "0 days 00:00:12       3\n",
       "0 days 00:00:13       4\n",
       "0 days 00:00:14       7\n",
       "0 days 00:00:15       3\n",
       "0 days 00:00:16       6\n",
       "0 days 00:00:17       5\n",
       "0 days 00:00:18       2\n",
       "0 days 00:00:19       5\n",
       "0 days 00:00:20       3\n",
       "0 days 00:00:21       1\n",
       "0 days 00:00:22       4\n",
       "0 days 00:00:23       5\n",
       "0 days 00:00:24       6\n",
       "0 days 00:00:25       5\n",
       "0 days 00:00:26       3\n",
       "0 days 00:00:27       2\n",
       "0 days 00:00:28       1\n",
       "0 days 00:00:29       2\n",
       "0 days 00:00:32       3\n",
       "0 days 00:00:33       3\n",
       "0 days 00:00:34       1\n",
       "0 days 00:00:36       3\n",
       "0 days 00:00:37       2\n",
       "0 days 00:00:38       1\n",
       "0 days 00:00:39       2\n",
       "0 days 00:00:40       2\n",
       "0 days 00:00:42       1\n",
       "0 days 00:00:45       1\n",
       "0 days 00:00:48       1\n",
       "0 days 00:01:20       1\n",
       "0 days 00:01:26       1\n",
       "0 days 00:01:32       1\n",
       "0 days 00:01:34       1\n",
       "0 days 00:01:47       1\n",
       "0 days 00:02:04       1\n",
       "0 days 00:07:39       1\n",
       "0 days 00:10:23       1\n",
       "0 days 01:07:09       1\n",
       "2 days 23:14:02       1\n",
       "6 days 04:11:23       1\n",
       "7 days 20:45:28       1\n",
       "9 days 04:40:31       1\n",
       "15 days 08:19:14      1\n",
       "26 days 19:55:44      1\n",
       "184 days 12:25:35     1\n",
       "Name: time to acknowledge, dtype: int64"
      ]
     },
     "execution_count": 15,
     "metadata": {},
     "output_type": "execute_result"
    }
   ],
   "source": [
    "issues_df.groupby('time to acknowledge')['time to acknowledge'].count()"
   ]
  },
  {
   "cell_type": "code",
   "execution_count": 32,
   "metadata": {},
   "outputs": [],
   "source": [
    "#save to CSV, in case you want to\n",
    "issues_df.to_csv(\"all_issues.csv\")"
   ]
  },
  {
   "cell_type": "code",
   "execution_count": null,
   "metadata": {},
   "outputs": [],
   "source": [
    "#CREATE TABLE public.test\n",
    "#(\n",
    "#    test integer\n",
    "#);\n"
   ]
  },
  {
   "cell_type": "code",
   "execution_count": 31,
   "metadata": {},
   "outputs": [
    {
     "name": "stdout",
     "output_type": "stream",
     "text": [
      "create table issues_import_test (\n",
      "\"status\" text,\n",
      "\"summary\" text,\n",
      "\"description\" text,\n",
      "\"lat\" text,\n",
      "\"lng\" text,\n",
      "\"address\" text,\n",
      "\"created_at\" text,\n",
      "\"acknowledged_at\" text,\n",
      "\"closed_at\" text,\n",
      "\"url\" text,\n",
      "\"media\" text,\n",
      "\"time to acknowledge\" text,\n",
      "\"time to close\" text,\n",
      ");\n"
     ]
    }
   ],
   "source": [
    "#using code to create SQL code\n",
    "print(\"create table issues_import_test (\")\n",
    "for col in issues_df.columns:\n",
    "    print(f'\"{col}\" text,')\n",
    "print(\");\")"
   ]
  },
  {
   "cell_type": "markdown",
   "metadata": {},
   "source": [
    "# Let's rock this out to the DB and go from there"
   ]
  },
  {
   "cell_type": "code",
   "execution_count": 36,
   "metadata": {},
   "outputs": [],
   "source": [
    "from sqlalchemy import create_engine\n",
    "import psycopg2\n",
    "#postgres_url_user_pass = \"user:pass\"\n",
    "#postgres_server = \"127.0.0.1\"\n",
    "engine = create_engine(\n",
    "    f'postgresql+psycopg2://{postgres_url_user_pass}@{postgres_server}/seeClickFix', echo=False)"
   ]
  },
  {
   "cell_type": "code",
   "execution_count": 45,
   "metadata": {},
   "outputs": [],
   "source": [
    "#remove problem desc column and media column\n",
    "issues_df= issues_df[['status', 'summary', 'lat', 'lng', 'address',\n",
    "       'created_at', 'acknowledged_at', 'closed_at', 'url',\n",
    "       'time to acknowledge', 'time to close']]\n"
   ]
  },
  {
   "cell_type": "code",
   "execution_count": 46,
   "metadata": {},
   "outputs": [],
   "source": [
    "issues_df.to_sql('seeClickFixExport',engine,if_exists=\"replace\")"
   ]
  },
  {
   "cell_type": "code",
   "execution_count": 52,
   "metadata": {},
   "outputs": [],
   "source": [
    "cleaned_df =pd.read_sql('select * from all_issues', engine)"
   ]
  },
  {
   "cell_type": "code",
   "execution_count": 54,
   "metadata": {},
   "outputs": [
    {
     "data": {
      "text/plain": [
       "id                               int64\n",
       "summary                         object\n",
       "status                          object\n",
       "created_at         datetime64[ns, UTC]\n",
       "acknowledged_at    datetime64[ns, UTC]\n",
       "closed_at          datetime64[ns, UTC]\n",
       "time_to_ack            timedelta64[ns]\n",
       "time_to_close          timedelta64[ns]\n",
       "time_to_resolve        timedelta64[ns]\n",
       "dtype: object"
      ]
     },
     "execution_count": 54,
     "metadata": {},
     "output_type": "execute_result"
    }
   ],
   "source": [
    "cleaned_df.dtypes"
   ]
  },
  {
   "cell_type": "code",
   "execution_count": 72,
   "metadata": {},
   "outputs": [
    {
     "name": "stdout",
     "output_type": "stream",
     "text": [
      "create table issues_import_test (\n",
      "\"status\" text,\n",
      "\"summary\" text,\n",
      "\"lat\" float,\n",
      "\"lng\" float,\n",
      "\"address\" text,\n",
      "\"created_at\" text,\n",
      "\"acknowledged_at\" text,\n",
      "\"closed_at\" text,\n",
      "\"url\" text,\n",
      "\"time to acknowledge\" text,\n",
      "\"time to close\" text,\n",
      ");\n"
     ]
    }
   ],
   "source": [
    "#using code to create SQL code\n",
    "print(\"create table issues_import_test (\")\n",
    "for col in issues_df.columns:\n",
    "    print(f'\"{col}\" {findType(issues_df,col)},')\n",
    "print(\");\")"
   ]
  },
  {
   "cell_type": "code",
   "execution_count": 71,
   "metadata": {},
   "outputs": [],
   "source": [
    "def findType(df, column):\n",
    "    if (df.dtypes[column]=='float64' ):\n",
    "        return 'float'\n",
    "    #issues_df.dtypes['lat'] == 'float64'\n",
    "    return \"text\""
   ]
  },
  {
   "cell_type": "code",
   "execution_count": 63,
   "metadata": {},
   "outputs": [
    {
     "ename": "TypeError",
     "evalue": "'numpy.dtype' object is not iterable",
     "output_type": "error",
     "traceback": [
      "\u001b[0;31m---------------------------------------------------------------------------\u001b[0m",
      "\u001b[0;31mTypeError\u001b[0m                                 Traceback (most recent call last)",
      "\u001b[0;32m<ipython-input-63-978b14526d29>\u001b[0m in \u001b[0;36m<module>\u001b[0;34m\u001b[0m\n\u001b[0;32m----> 1\u001b[0;31m \u001b[0;32mfor\u001b[0m \u001b[0md\u001b[0m \u001b[0;32min\u001b[0m \u001b[0missues_df\u001b[0m\u001b[0;34m[\u001b[0m\u001b[0;34m'status'\u001b[0m\u001b[0;34m]\u001b[0m\u001b[0;34m.\u001b[0m\u001b[0mdtypes\u001b[0m\u001b[0;34m:\u001b[0m\u001b[0;34m\u001b[0m\u001b[0;34m\u001b[0m\u001b[0m\n\u001b[0m\u001b[1;32m      2\u001b[0m     \u001b[0mprint\u001b[0m\u001b[0;34m(\u001b[0m\u001b[0md\u001b[0m\u001b[0;34m)\u001b[0m\u001b[0;34m\u001b[0m\u001b[0;34m\u001b[0m\u001b[0m\n",
      "\u001b[0;31mTypeError\u001b[0m: 'numpy.dtype' object is not iterable"
     ]
    }
   ],
   "source": [
    "for d in issues_df['status'].dtypes:\n",
    "    \n",
    "    print(d)"
   ]
  },
  {
   "cell_type": "code",
   "execution_count": 70,
   "metadata": {},
   "outputs": [
    {
     "data": {
      "text/plain": [
       "True"
      ]
     },
     "execution_count": 70,
     "metadata": {},
     "output_type": "execute_result"
    }
   ],
   "source": [
    "issues_df.dtypes['lat'] == 'float64'"
   ]
  },
  {
   "cell_type": "code",
   "execution_count": null,
   "metadata": {},
   "outputs": [],
   "source": []
  }
 ],
 "metadata": {
  "kernelspec": {
   "display_name": "Python 3",
   "language": "python",
   "name": "python3"
  },
  "language_info": {
   "codemirror_mode": {
    "name": "ipython",
    "version": 3
   },
   "file_extension": ".py",
   "mimetype": "text/x-python",
   "name": "python",
   "nbconvert_exporter": "python",
   "pygments_lexer": "ipython3",
   "version": "3.8.2"
  }
 },
 "nbformat": 4,
 "nbformat_minor": 4
}
