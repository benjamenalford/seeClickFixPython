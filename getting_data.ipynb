{
 "cells": [
  {
   "cell_type": "code",
   "execution_count": 33,
   "metadata": {},
   "outputs": [],
   "source": [
    "import pandas as pd\n",
    "import json\n",
    "import requests"
   ]
  },
  {
   "cell_type": "code",
   "execution_count": 34,
   "metadata": {},
   "outputs": [],
   "source": [
    "url = \" https://seeclickfix.com/api/v2/issues?min_lat=39.03211937423035&min_lng=-95.71889877319336&max_lat=39.052118348329074&max_lng=-95.6312656402588&status=open%2Cacknowledged%2Cclosed&fields%5Bissue%5D=id%2Csummary%2Cdescription%2Cstatus%2Clat%2Clng%2Caddress%2Cmedia%2Ccreated_at%2Cacknowledged_at%2Cclosed_at&page=1\""
   ]
  },
  {
   "cell_type": "code",
   "execution_count": 36,
   "metadata": {},
   "outputs": [],
   "source": [
    "response = requests.get(url).json()\n",
    "total_pages = response['metadata']['pagination']['pages']"
   ]
  },
  {
   "cell_type": "code",
   "execution_count": 37,
   "metadata": {},
   "outputs": [],
   "source": [
    "def get_issues(url):\n",
    "    all_issues = []\n",
    "    for i in range(1,total_pages +1):\n",
    "        print(f\"getting page {i} of {total_pages}\")\n",
    "        response = requests.get(url).json()\n",
    "        next_page_url = response['metadata']['pagination']['next_page_url']\n",
    "        page_issues = response['issues']\n",
    "        all_issues.extend(page_issues)\n",
    "        url = next_page_url\n",
    "    return all_issues"
   ]
  },
  {
   "cell_type": "code",
   "execution_count": 38,
   "metadata": {},
   "outputs": [
    {
     "name": "stdout",
     "output_type": "stream",
     "text": [
      "getting page 1 of 10\n",
      "getting page 2 of 10\n",
      "getting page 3 of 10\n",
      "getting page 4 of 10\n",
      "getting page 5 of 10\n",
      "getting page 6 of 10\n",
      "getting page 7 of 10\n",
      "getting page 8 of 10\n",
      "getting page 9 of 10\n",
      "getting page 10 of 10\n"
     ]
    }
   ],
   "source": [
    "all_issues = get_issues(url)"
   ]
  },
  {
   "cell_type": "code",
   "execution_count": 40,
   "metadata": {},
   "outputs": [],
   "source": [
    "issues_df = pd.DataFrame(all_issues)"
   ]
  },
  {
   "cell_type": "code",
   "execution_count": 47,
   "metadata": {},
   "outputs": [],
   "source": [
    "issues_df = issues_df.set_index('id')"
   ]
  },
  {
   "cell_type": "code",
   "execution_count": 49,
   "metadata": {},
   "outputs": [
    {
     "data": {
      "text/plain": [
       "Acknowledged    157\n",
       "Closed           21\n",
       "Open              4\n",
       "Name: status, dtype: int64"
      ]
     },
     "execution_count": 49,
     "metadata": {},
     "output_type": "execute_result"
    }
   ],
   "source": [
    "status_list = issues_df['status'].value_counts()"
   ]
  },
  {
   "cell_type": "code",
   "execution_count": 59,
   "metadata": {},
   "outputs": [
    {
     "data": {
      "text/plain": [
       "Property Maintenance & Code Violations    54\n",
       "Curb and Gutter Repair                    43\n",
       "Alley                                     14\n",
       "Pothole                                   13\n",
       "Sidewalk and Ramp                         10\n",
       "Trees and Tree Limbs                       8\n",
       "Police General Issue                       8\n",
       "Street Repair                              4\n",
       "Other                                      4\n",
       "General Feedback or Questions              4\n",
       "Snow or Ice Hazard                         3\n",
       "Street Sign Repair                         3\n",
       "Utility Work Damage                        2\n",
       "dangerous parking                          1\n",
       "Police Animal Control                      1\n",
       "Downtown Parking General Question          1\n",
       "Dead animal on sidewalk                    1\n",
       "skatepark light                            1\n",
       "Graffiti                                   1\n",
       "Junk Yard?                                 1\n",
       "Curb and Gutter                            1\n",
       "safety lighting                            1\n",
       "Loud pedestrian crossing                   1\n",
       "Hole in Buffalo                            1\n",
       "Hydrant Leaking                            1\n",
       "Name: summary, dtype: int64"
      ]
     },
     "execution_count": 59,
     "metadata": {},
     "output_type": "execute_result"
    }
   ],
   "source": [
    "summary_list = issues_df['summary'].value_counts()\n",
    "summary_list"
   ]
  },
  {
   "cell_type": "code",
   "execution_count": 56,
   "metadata": {},
   "outputs": [],
   "source": [
    "summary_df = pd.DataFrame(issues_df.groupby('summary')['status'].count())"
   ]
  },
  {
   "cell_type": "code",
   "execution_count": 57,
   "metadata": {},
   "outputs": [
    {
     "data": {
      "text/plain": [
       "<AxesSubplot:xlabel='summary'>"
      ]
     },
     "execution_count": 57,
     "metadata": {},
     "output_type": "execute_result"
    },
    {
     "data": {
      "image/png": "[encoded data removed]",
      "text/plain": [
       "<Figure size 432x288 with 1 Axes>"
      ]
     },
     "metadata": {
      "needs_background": "light"
     },
     "output_type": "display_data"
    }
   ],
   "source": [
    "summary_df.plot(kind=\"bar\")"
   ]
  },
  {
   "cell_type": "code",
   "execution_count": null,
   "metadata": {},
   "outputs": [],
   "source": []
  }
 ],
 "metadata": {
  "kernelspec": {
   "display_name": "Python 3",
   "language": "python",
   "name": "python3"
  },
  "language_info": {
   "codemirror_mode": {
    "name": "ipython",
    "version": 3
   },
   "file_extension": ".py",
   "mimetype": "text/x-python",
   "name": "python",
   "nbconvert_exporter": "python",
   "pygments_lexer": "ipython3",
   "version": "3.8.2"
  }
 },
 "nbformat": 4,
 "nbformat_minor": 4
}
