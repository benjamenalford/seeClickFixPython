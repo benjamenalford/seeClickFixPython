{
 "cells": [
  {
   "cell_type": "code",
   "execution_count": null,
   "metadata": {},
   "outputs": [],
   "source": [
    "import pandas as pd\n",
    "import json\n",
    "import requests\n",
    "import datetime\n",
    "from config import postgres_url_user_pass\n",
    "from config import postgres_server"
   ]
  },
  {
   "cell_type": "code",
   "execution_count": null,
   "metadata": {},
   "outputs": [],
   "source": [
    "#URL found from viewing web inspector in web browser to find the current list of issues\n",
    "url = \"https://seeclickfix.com/api/v2/issues?min_lat=39.03211937423035&min_lng=-95.71889877319336&max_lat=39.052118348329074&max_lng=-95.6312656402588&status=open%2Cacknowledged%2Cclosed&fields%5Bissue%5D=id%2Csummary%2Cdescription%2Cstatus%2Clat%2Clng%2Caddress%2Cmedia%2Ccreated_at%2Cacknowledged_at%2Cclosed_at&page=1\""
   ]
  },
  {
   "cell_type": "code",
   "execution_count": null,
   "metadata": {},
   "outputs": [],
   "source": [
    "#grab an initial response to grab the total number of pages\n",
    "response = requests.get(url).json()\n",
    "total_pages = response['metadata']['pagination']['pages']"
   ]
  },
  {
   "cell_type": "code",
   "execution_count": null,
   "metadata": {},
   "outputs": [],
   "source": [
    "#define a function to get urls from the initial URL \n",
    "def get_issues(url):\n",
    "    #create a temp list for all issues to return\n",
    "    all_issues = []\n",
    "    for i in range(1,total_pages +1):\n",
    "        print(f\"getting page {i} of {total_pages}\")\n",
    "        response = requests.get(url).json()\n",
    "        next_page_url = response['metadata']['pagination']['next_page_url']\n",
    "        page_issues = response['issues']\n",
    "        #add current list of issues to the existing list of issues\n",
    "        all_issues.extend(page_issues)\n",
    "        #set URL to next page to get the next set of issues\n",
    "        url = next_page_url\n",
    "    #return the list of all issues\n",
    "    return all_issues"
   ]
  },
  {
   "cell_type": "code",
   "execution_count": null,
   "metadata": {},
   "outputs": [],
   "source": [
    "# call function to get all issues\n",
    "all_issues = get_issues(url)"
   ]
  },
  {
   "cell_type": "code",
   "execution_count": null,
   "metadata": {},
   "outputs": [],
   "source": [
    "#create dataframe from issue list\n",
    "issues_df = pd.DataFrame(all_issues)\n",
    "#set index to the issues id\n",
    "issues_df = issues_df.set_index('id')"
   ]
  },
  {
   "cell_type": "code",
   "execution_count": null,
   "metadata": {},
   "outputs": [],
   "source": [
    "def clean_summary(df):\n",
    "    #convert dates\n",
    "    df['created_at'] = pd.to_datetime(\n",
    "        df['created_at'], format=\"%Y/%m/%d\", utc=True)\n",
    "    df['acknowledged_at'] = pd.to_datetime(\n",
    "        df['acknowledged_at'], format=\"%Y/%m/%d\", utc=True)\n",
    "    df['closed_at'] = pd.to_datetime(\n",
    "        df['closed_at'], format=\"%Y/%m/%d\", utc=True)\n",
    "    # calculate time to acknowledge\n",
    "    df['time to acknowledge'] = df['acknowledged_at'] - df['created_at']\n",
    "    df['time to close'] = df['closed_at'] - df['created_at']\n",
    "    \n",
    "    #return daframe and replace known errant values\n",
    "    return df.replace({\"Curb and Gutter\": \"Curb and Gutter Repair\",\n",
    "                       \"Junk Yard?\": \"Property Maintenance & Code Violations\",\n",
    "                       \"skatepark light\": \"safety lighting\",\n",
    "                       \"Dead animal on sidewalk \": \"Police Animal Control\",\n",
    "                       \"Loud pedestrian crossing \": \"Street Sign Repair\",\n",
    "                       \"Pothole\": \"Street Repair\"})\n"
   ]
  },
  {
   "cell_type": "code",
   "execution_count": null,
   "metadata": {},
   "outputs": [],
   "source": [
    "# call function to clean the summary column\n",
    "issues_df = clean_summary(issues_df)"
   ]
  },
  {
   "cell_type": "code",
   "execution_count": null,
   "metadata": {},
   "outputs": [],
   "source": [
    "status_list = issues_df['status'].value_counts()"
   ]
  },
  {
   "cell_type": "code",
   "execution_count": null,
   "metadata": {},
   "outputs": [],
   "source": [
    "summary_list = issues_df['summary'].value_counts()\n",
    "summary_list"
   ]
  },
  {
   "cell_type": "code",
   "execution_count": null,
   "metadata": {},
   "outputs": [],
   "source": [
    "summary_df = pd.DataFrame(issues_df.groupby('summary')['status'].count())"
   ]
  },
  {
   "cell_type": "code",
   "execution_count": null,
   "metadata": {},
   "outputs": [],
   "source": [
    "summary_df.plot(kind=\"bar\")"
   ]
  },
  {
   "cell_type": "code",
   "execution_count": null,
   "metadata": {},
   "outputs": [],
   "source": [
    "status = pd.DataFrame(issues_df.groupby('status')['status'].count())\n",
    "status.plot(kind=\"bar\")"
   ]
  },
  {
   "cell_type": "code",
   "execution_count": null,
   "metadata": {},
   "outputs": [],
   "source": [
    "issues_df['time to acknowledge']"
   ]
  },
  {
   "cell_type": "code",
   "execution_count": null,
   "metadata": {},
   "outputs": [],
   "source": [
    "issues_df.groupby('time to acknowledge')['time to acknowledge'].count()"
   ]
  },
  {
   "cell_type": "code",
   "execution_count": null,
   "metadata": {},
   "outputs": [],
   "source": [
    "#save to CSV, in case you want to\n",
    "issues_df.to_csv(\"all_issues.csv\")"
   ]
  },
  {
   "cell_type": "markdown",
   "metadata": {},
   "source": [
    "# Let's rock this out to the DB and go from there"
   ]
  },
  {
   "cell_type": "code",
   "execution_count": null,
   "metadata": {},
   "outputs": [],
   "source": [
    "from sqlalchemy import create_engine\n",
    "import psycopg2\n",
    "engine = create_engine(\n",
    "    f'postgresql+psycopg2://{postgres_url_user_pass}@{postgres_server}/seeClickFix', echo=False)\n",
    "issues_df.to_sql('seeClickFixExport',engine)\n",
    "\n"
   ]
  }
 ],
 "metadata": {
  "kernelspec": {
   "display_name": "Python 3",
   "language": "python",
   "name": "python3"
  },
  "language_info": {
   "codemirror_mode": {
    "name": "ipython",
    "version": 3
   },
   "file_extension": ".py",
   "mimetype": "text/x-python",
   "name": "python",
   "nbconvert_exporter": "python",
   "pygments_lexer": "ipython3",
   "version": "3.8.2"
  }
 },
 "nbformat": 4,
 "nbformat_minor": 4
}
